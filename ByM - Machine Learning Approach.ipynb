{
 "cells": [
  {
   "cell_type": "code",
   "execution_count": 19,
   "metadata": {},
   "outputs": [],
   "source": [
    "import pandas as pd\n",
    "import numpy as np\n",
    "from sklearn.kernel_ridge import KernelRidge\n",
    "from sklearn.discriminant_analysis import LinearDiscriminantAnalysis\n",
    "from sklearn.model_selection import cross_val_score, GridSearchCV, RandomizedSearchCV\n",
    "from sklearn.neighbors import KNeighborsRegressor, DistanceMetric\n",
    "from sklearn.model_selection import train_test_split\n",
    "from sklearn.metrics import mean_squared_error, mean_absolute_error\n",
    "from xgboost.sklearn import XGBRegressor\n",
    "import matplotlib.pyplot as plt \n"
   ]
  },
  {
   "cell_type": "markdown",
   "metadata": {},
   "source": [
    "# Loading Data"
   ]
  },
  {
   "cell_type": "code",
   "execution_count": 2,
   "metadata": {},
   "outputs": [],
   "source": [
    "df = pd.read_excel(\"Consulta_20210226-132345892.xlsx\")"
   ]
  },
  {
   "cell_type": "code",
   "execution_count": 57,
   "metadata": {},
   "outputs": [
    {
     "data": {
      "text/html": [
       "<div>\n",
       "<style scoped>\n",
       "    .dataframe tbody tr th:only-of-type {\n",
       "        vertical-align: middle;\n",
       "    }\n",
       "\n",
       "    .dataframe tbody tr th {\n",
       "        vertical-align: top;\n",
       "    }\n",
       "\n",
       "    .dataframe thead th {\n",
       "        text-align: right;\n",
       "    }\n",
       "</style>\n",
       "<table border=\"1\" class=\"dataframe\">\n",
       "  <thead>\n",
       "    <tr style=\"text-align: right;\">\n",
       "      <th></th>\n",
       "      <th>Fecha</th>\n",
       "      <th>Mes</th>\n",
       "      <th>ByM</th>\n",
       "      <th>TIIE</th>\n",
       "      <th>Inflacion</th>\n",
       "      <th>PIB</th>\n",
       "    </tr>\n",
       "  </thead>\n",
       "  <tbody>\n",
       "    <tr>\n",
       "      <td>0</td>\n",
       "      <td>2000-01-01</td>\n",
       "      <td>2000-01-01</td>\n",
       "      <td>157161287</td>\n",
       "      <td>0.1855</td>\n",
       "      <td>1.34</td>\n",
       "      <td>1.272502e+07</td>\n",
       "    </tr>\n",
       "    <tr>\n",
       "      <td>1</td>\n",
       "      <td>2000-02-01</td>\n",
       "      <td>2000-02-01</td>\n",
       "      <td>150126022</td>\n",
       "      <td>0.1815</td>\n",
       "      <td>0.89</td>\n",
       "      <td>1.272502e+07</td>\n",
       "    </tr>\n",
       "    <tr>\n",
       "      <td>2</td>\n",
       "      <td>2000-03-01</td>\n",
       "      <td>2000-03-01</td>\n",
       "      <td>152919896</td>\n",
       "      <td>0.1577</td>\n",
       "      <td>0.55</td>\n",
       "      <td>1.272502e+07</td>\n",
       "    </tr>\n",
       "    <tr>\n",
       "      <td>3</td>\n",
       "      <td>2000-04-01</td>\n",
       "      <td>2000-04-01</td>\n",
       "      <td>158846323</td>\n",
       "      <td>0.1474</td>\n",
       "      <td>0.57</td>\n",
       "      <td>1.299457e+07</td>\n",
       "    </tr>\n",
       "    <tr>\n",
       "      <td>4</td>\n",
       "      <td>2000-05-01</td>\n",
       "      <td>2000-05-01</td>\n",
       "      <td>157679406</td>\n",
       "      <td>0.1592</td>\n",
       "      <td>0.37</td>\n",
       "      <td>1.299457e+07</td>\n",
       "    </tr>\n",
       "    <tr>\n",
       "      <td>...</td>\n",
       "      <td>...</td>\n",
       "      <td>...</td>\n",
       "      <td>...</td>\n",
       "      <td>...</td>\n",
       "      <td>...</td>\n",
       "      <td>...</td>\n",
       "    </tr>\n",
       "    <tr>\n",
       "      <td>247</td>\n",
       "      <td>2020-08-01</td>\n",
       "      <td>2020-08-01</td>\n",
       "      <td>1912089949</td>\n",
       "      <td>0.0497</td>\n",
       "      <td>0.39</td>\n",
       "      <td>1.681376e+07</td>\n",
       "    </tr>\n",
       "    <tr>\n",
       "      <td>248</td>\n",
       "      <td>2020-09-01</td>\n",
       "      <td>2020-09-01</td>\n",
       "      <td>1897192422</td>\n",
       "      <td>0.0472</td>\n",
       "      <td>0.23</td>\n",
       "      <td>1.681376e+07</td>\n",
       "    </tr>\n",
       "    <tr>\n",
       "      <td>249</td>\n",
       "      <td>2020-10-01</td>\n",
       "      <td>2020-10-01</td>\n",
       "      <td>1918792995</td>\n",
       "      <td>0.0453</td>\n",
       "      <td>0.61</td>\n",
       "      <td>1.805727e+07</td>\n",
       "    </tr>\n",
       "    <tr>\n",
       "      <td>250</td>\n",
       "      <td>2020-11-01</td>\n",
       "      <td>2020-11-01</td>\n",
       "      <td>1988458226</td>\n",
       "      <td>0.0450</td>\n",
       "      <td>0.08</td>\n",
       "      <td>1.805727e+07</td>\n",
       "    </tr>\n",
       "    <tr>\n",
       "      <td>251</td>\n",
       "      <td>2020-12-01</td>\n",
       "      <td>2020-12-01</td>\n",
       "      <td>2117034117</td>\n",
       "      <td>0.0449</td>\n",
       "      <td>0.38</td>\n",
       "      <td>1.805727e+07</td>\n",
       "    </tr>\n",
       "  </tbody>\n",
       "</table>\n",
       "<p>252 rows × 6 columns</p>\n",
       "</div>"
      ],
      "text/plain": [
       "         Fecha        Mes         ByM    TIIE  Inflacion           PIB\n",
       "0   2000-01-01 2000-01-01   157161287  0.1855       1.34  1.272502e+07\n",
       "1   2000-02-01 2000-02-01   150126022  0.1815       0.89  1.272502e+07\n",
       "2   2000-03-01 2000-03-01   152919896  0.1577       0.55  1.272502e+07\n",
       "3   2000-04-01 2000-04-01   158846323  0.1474       0.57  1.299457e+07\n",
       "4   2000-05-01 2000-05-01   157679406  0.1592       0.37  1.299457e+07\n",
       "..         ...        ...         ...     ...        ...           ...\n",
       "247 2020-08-01 2020-08-01  1912089949  0.0497       0.39  1.681376e+07\n",
       "248 2020-09-01 2020-09-01  1897192422  0.0472       0.23  1.681376e+07\n",
       "249 2020-10-01 2020-10-01  1918792995  0.0453       0.61  1.805727e+07\n",
       "250 2020-11-01 2020-11-01  1988458226  0.0450       0.08  1.805727e+07\n",
       "251 2020-12-01 2020-12-01  2117034117  0.0449       0.38  1.805727e+07\n",
       "\n",
       "[252 rows x 6 columns]"
      ]
     },
     "execution_count": 57,
     "metadata": {},
     "output_type": "execute_result"
    }
   ],
   "source": [
    "df"
   ]
  },
  {
   "cell_type": "code",
   "execution_count": 4,
   "metadata": {},
   "outputs": [
    {
     "data": {
      "text/plain": [
       "Fecha        datetime64[ns]\n",
       "Mes          datetime64[ns]\n",
       "ByM                   int64\n",
       "TIIE                float64\n",
       "Inflacion           float64\n",
       "PIB                 float64\n",
       "dtype: object"
      ]
     },
     "execution_count": 4,
     "metadata": {},
     "output_type": "execute_result"
    }
   ],
   "source": [
    "df.dtypes"
   ]
  },
  {
   "cell_type": "code",
   "execution_count": 5,
   "metadata": {},
   "outputs": [],
   "source": [
    "var = [\"TIIE\", \"Inflacion\", \"PIB\"]"
   ]
  },
  {
   "cell_type": "markdown",
   "metadata": {},
   "source": [
    "# Train Test Split"
   ]
  },
  {
   "cell_type": "code",
   "execution_count": 6,
   "metadata": {},
   "outputs": [],
   "source": [
    "X = df[var]\n",
    "y = df[\"ByM\"]"
   ]
  },
  {
   "cell_type": "code",
   "execution_count": 7,
   "metadata": {},
   "outputs": [],
   "source": [
    "Xt,Xv,yt,yv = train_test_split(X,y,train_size=0.7)"
   ]
  },
  {
   "cell_type": "code",
   "execution_count": 47,
   "metadata": {},
   "outputs": [],
   "source": [
    "def metrics(X, y, model, conjunto):\n",
    "    print(\"Metrics of \", conjunto)\n",
    "    print(\"MSE: \", np.sqrt(mean_squared_error(y, model.predict(X))))\n",
    "    print(\"MAE: \", mean_absolute_error(y, model.predict(X)))\n"
   ]
  },
  {
   "cell_type": "markdown",
   "metadata": {},
   "source": [
    "# Data Modelling"
   ]
  },
  {
   "cell_type": "markdown",
   "metadata": {},
   "source": [
    "## Kernel Ridge"
   ]
  },
  {
   "cell_type": "code",
   "execution_count": 8,
   "metadata": {},
   "outputs": [
    {
     "name": "stderr",
     "output_type": "stream",
     "text": [
      "/Users/Victor/opt/anaconda3/lib/python3.7/site-packages/sklearn/linear_model/ridge.py:189: UserWarning: Singular matrix in solving dual problem. Using least-squares solution instead.\n",
      "  warnings.warn(\"Singular matrix in solving dual problem. Using \"\n"
     ]
    },
    {
     "data": {
      "text/plain": [
       "KernelRidge(alpha=1, coef0=1, degree=3, gamma=None, kernel='linear',\n",
       "            kernel_params=None)"
      ]
     },
     "execution_count": 8,
     "metadata": {},
     "output_type": "execute_result"
    }
   ],
   "source": [
    "krr = KernelRidge()\n",
    "\n",
    "krr.fit(X = Xt, y = yt)"
   ]
  },
  {
   "cell_type": "code",
   "execution_count": 9,
   "metadata": {},
   "outputs": [],
   "source": [
    "ls_res = cross_val_score(estimator = krr, X=Xt, y=yt, cv=4, n_jobs=-1, scoring=\"r2\")"
   ]
  },
  {
   "cell_type": "code",
   "execution_count": 10,
   "metadata": {},
   "outputs": [
    {
     "data": {
      "text/plain": [
       "(0.11945124498139942, 0.1423266837359482)"
      ]
     },
     "execution_count": 10,
     "metadata": {},
     "output_type": "execute_result"
    }
   ],
   "source": [
    "np.mean(ls_res), np.std(ls_res)"
   ]
  },
  {
   "cell_type": "code",
   "execution_count": 49,
   "metadata": {},
   "outputs": [
    {
     "name": "stdout",
     "output_type": "stream",
     "text": [
      "Metrics of  Train\n",
      "MSE:  155937588.8407649\n",
      "MAE:  81389981.88977273\n"
     ]
    }
   ],
   "source": [
    "metrics(Xt, yt, krr, \"Train\")"
   ]
  },
  {
   "cell_type": "code",
   "execution_count": 50,
   "metadata": {},
   "outputs": [
    {
     "name": "stdout",
     "output_type": "stream",
     "text": [
      "Metrics of  Test\n",
      "MSE:  203952834.57043588\n",
      "MAE:  115656561.36052634\n"
     ]
    }
   ],
   "source": [
    "metrics(Xv, yv, krr, \"Test\")"
   ]
  },
  {
   "cell_type": "code",
   "execution_count": 37,
   "metadata": {},
   "outputs": [
    {
     "data": {
      "text/plain": [
       "<matplotlib.legend.Legend at 0x125c8cad0>"
      ]
     },
     "execution_count": 37,
     "metadata": {},
     "output_type": "execute_result"
    },
    {
     "data": {
      "image/png": "[encoded data removed]",
      "text/plain": [
       "<Figure size 432x288 with 1 Axes>"
      ]
     },
     "metadata": {
      "needs_background": "light"
     },
     "output_type": "display_data"
    }
   ],
   "source": [
    "plt.plot(df[\"Mes\"], y)\n",
    "plt.plot(df[\"Mes\"], krr.predict(X))\n",
    "plt.legend([\"Real\", \"Kernel-Ridge\"])"
   ]
  },
  {
   "cell_type": "markdown",
   "metadata": {},
   "source": [
    "## K-Neighborhoods Regressor"
   ]
  },
  {
   "cell_type": "code",
   "execution_count": 33,
   "metadata": {},
   "outputs": [
    {
     "data": {
      "text/plain": [
       "KNeighborsRegressor(algorithm='auto', leaf_size=30, metric='minkowski',\n",
       "                    metric_params=None, n_jobs=None, n_neighbors=5, p=2,\n",
       "                    weights='uniform')"
      ]
     },
     "execution_count": 33,
     "metadata": {},
     "output_type": "execute_result"
    }
   ],
   "source": [
    "knr = KNeighborsRegressor()\n",
    "knr.fit(X=Xt, y = yt)"
   ]
  },
  {
   "cell_type": "code",
   "execution_count": 51,
   "metadata": {},
   "outputs": [
    {
     "name": "stdout",
     "output_type": "stream",
     "text": [
      "Metrics of  Train\n",
      "MSE:  155937588.8407649\n",
      "MAE:  81389981.88977273\n"
     ]
    }
   ],
   "source": [
    "metrics(Xt, yt, knr, \"Train\")"
   ]
  },
  {
   "cell_type": "code",
   "execution_count": 56,
   "metadata": {},
   "outputs": [
    {
     "name": "stdout",
     "output_type": "stream",
     "text": [
      "Metrics of  Test\n",
      "MSE:  203952834.57043588\n",
      "MAE:  115656561.36052634\n"
     ]
    }
   ],
   "source": [
    "metrics(Xv, yv, knr, \"Test\")"
   ]
  },
  {
   "cell_type": "code",
   "execution_count": 38,
   "metadata": {},
   "outputs": [
    {
     "data": {
      "text/plain": [
       "<matplotlib.legend.Legend at 0x125d65dd0>"
      ]
     },
     "execution_count": 38,
     "metadata": {},
     "output_type": "execute_result"
    },
    {
     "data": {
      "image/png": "[encoded data removed]",
      "text/plain": [
       "<Figure size 432x288 with 1 Axes>"
      ]
     },
     "metadata": {
      "needs_background": "light"
     },
     "output_type": "display_data"
    }
   ],
   "source": [
    "plt.plot(df[\"Mes\"], y)\n",
    "plt.plot(df[\"Mes\"], knr.predict(X))\n",
    "plt.legend([\"Real\",\"KNeig-Regressor\"])"
   ]
  },
  {
   "cell_type": "markdown",
   "metadata": {},
   "source": [
    "## XGBoost Regressor"
   ]
  },
  {
   "cell_type": "code",
   "execution_count": 16,
   "metadata": {},
   "outputs": [
    {
     "name": "stdout",
     "output_type": "stream",
     "text": [
      "[13:59:41] WARNING: src/objective/regression_obj.cu:152: reg:linear is now deprecated in favor of reg:squarederror.\n"
     ]
    },
    {
     "name": "stderr",
     "output_type": "stream",
     "text": [
      "/Users/Victor/opt/anaconda3/lib/python3.7/site-packages/xgboost/core.py:587: FutureWarning: Series.base is deprecated and will be removed in a future version\n",
      "  if getattr(data, 'base', None) is not None and \\\n"
     ]
    },
    {
     "data": {
      "text/plain": [
       "XGBRegressor(base_score=0.5, booster='gbtree', colsample_bylevel=1,\n",
       "             colsample_bynode=1, colsample_bytree=1, gamma=0,\n",
       "             importance_type='gain', learning_rate=0.1, max_delta_step=0,\n",
       "             max_depth=3, min_child_weight=1, missing=None, n_estimators=100,\n",
       "             n_jobs=1, nthread=None, objective='reg:linear', random_state=0,\n",
       "             reg_alpha=0, reg_lambda=1, scale_pos_weight=1, seed=None,\n",
       "             silent=None, subsample=1, verbosity=1)"
      ]
     },
     "execution_count": 16,
     "metadata": {},
     "output_type": "execute_result"
    }
   ],
   "source": [
    "xgb = XGBRegressor(n_estimators=100)\n",
    "\n",
    "xgb.fit(Xt, yt)"
   ]
  },
  {
   "cell_type": "code",
   "execution_count": 53,
   "metadata": {},
   "outputs": [
    {
     "name": "stdout",
     "output_type": "stream",
     "text": [
      "Metrics of  Train\n",
      "MSE:  38674393.26512273\n",
      "MAE:  24416195.113636363\n"
     ]
    }
   ],
   "source": [
    "metrics(Xt, yt, xgb, \"Train\")"
   ]
  },
  {
   "cell_type": "code",
   "execution_count": 55,
   "metadata": {},
   "outputs": [
    {
     "name": "stdout",
     "output_type": "stream",
     "text": [
      "Metrics of  Test\n",
      "MSE:  95803676.6385194\n",
      "MAE:  65588209.421052635\n"
     ]
    }
   ],
   "source": [
    "metrics(Xv, yv, xgb, \"Test\")"
   ]
  },
  {
   "cell_type": "code",
   "execution_count": 39,
   "metadata": {},
   "outputs": [
    {
     "data": {
      "text/plain": [
       "<matplotlib.legend.Legend at 0x125e8e850>"
      ]
     },
     "execution_count": 39,
     "metadata": {},
     "output_type": "execute_result"
    },
    {
     "data": {
      "image/png": "[encoded data removed]",
      "text/plain": [
       "<Figure size 432x288 with 1 Axes>"
      ]
     },
     "metadata": {
      "needs_background": "light"
     },
     "output_type": "display_data"
    }
   ],
   "source": [
    "plt.plot(df[\"Mes\"], y)\n",
    "plt.plot(df[\"Mes\"], xgb.predict(X))\n",
    "plt.legend([\"Real\",\"XGBoost\"])"
   ]
  },
  {
   "cell_type": "markdown",
   "metadata": {},
   "source": [
    "# Conclusions"
   ]
  },
  {
   "cell_type": "markdown",
   "metadata": {},
   "source": [
    "As you can see, the XGBoost model is fitting better than the other models, the last data from 2020, the proposed model is not getting the pattern, this is very common for atipical months/years like 2020, as you know the pandemic has been generating some macroeconomic changes and historically we do not have some similar period for the model is catching the pattern. Adding more variables to model, some dummies or other that shows some event could help to improve the forecast."
   ]
  },
  {
   "cell_type": "code",
   "execution_count": null,
   "metadata": {},
   "outputs": [],
   "source": []
  }
 ],
 "metadata": {
  "kernelspec": {
   "display_name": "Python 3",
   "language": "python",
   "name": "python3"
  },
  "language_info": {
   "codemirror_mode": {
    "name": "ipython",
    "version": 3
   },
   "file_extension": ".py",
   "mimetype": "text/x-python",
   "name": "python",
   "nbconvert_exporter": "python",
   "pygments_lexer": "ipython3",
   "version": "3.7.4"
  }
 },
 "nbformat": 4,
 "nbformat_minor": 2
}
